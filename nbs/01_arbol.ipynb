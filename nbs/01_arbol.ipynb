{
 "cells": [
  {
   "cell_type": "code",
   "execution_count": null,
   "id": "8217a5ed-153a-48e2-a373-69cb4f4456a1",
   "metadata": {},
   "outputs": [],
   "source": [
    "#\\ hide\n",
    "from nbdev.showdoc import *"
   ]
  },
  {
   "cell_type": "code",
   "execution_count": null,
   "id": "bb04ef97-e255-4d09-a1e3-353a7c2b12f0",
   "metadata": {},
   "outputs": [],
   "source": [
    "#| default_exp arbol"
   ]
  },
  {
   "cell_type": "markdown",
   "id": "cbc9851b-71b6-410f-b015-0436447802bf",
   "metadata": {},
   "source": [
    "# Ejemplo de la implementación de un árbol en python\n",
    "\n",
    "El siguiente ejemplo es la implementación de un árbol de busqueda en python.  "
   ]
  },
  {
   "cell_type": "markdown",
   "id": "9e18b373-c6ef-44e4-8b3c-d15a3c461510",
   "metadata": {},
   "source": [
    "## Clase nodo\n",
    "Primero se hace la clase básica de un nodo "
   ]
  },
  {
   "cell_type": "code",
   "execution_count": null,
   "id": "c1f07ac5-edd3-4ed7-919d-15107686a779",
   "metadata": {},
   "outputs": [],
   "source": [
    "#| export\n",
    "class nodo(): \n",
    "    \"\"\" Esta clase es un nodo con dos hijos\"\"\"\n",
    "    def __init__(self):\n",
    "        self.der = None\n",
    "        self.izq = None"
   ]
  },
  {
   "cell_type": "markdown",
   "id": "e68f8d87-ba15-492f-82ad-69a1970e3064",
   "metadata": {},
   "source": []
  },
  {
   "cell_type": "code",
   "execution_count": null,
   "id": "6db2dd30-b7d5-4cc8-b357-7102b33d159f",
   "metadata": {},
   "outputs": [
    {
     "name": "stdout",
     "output_type": "stream",
     "text": [
      "None\n"
     ]
    }
   ],
   "source": [
    "#\\hide\n",
    "nodo_basico = nodo()\n",
    "print(nodo_basico.der)"
   ]
  },
  {
   "cell_type": "code",
   "execution_count": null,
   "id": "f36b89a4-ccc8-4398-aea4-acba9fde1ed4",
   "metadata": {},
   "outputs": [
    {
     "ename": "TypeError",
     "evalue": "nodo.__init__() takes 1 positional argument but 2 were given",
     "output_type": "error",
     "traceback": [
      "\u001b[0;31m---------------------------------------------------------------------------\u001b[0m",
      "\u001b[0;31mTypeError\u001b[0m                                 Traceback (most recent call last)",
      "Cell \u001b[0;32mIn[9], line 1\u001b[0m\n\u001b[0;32m----> 1\u001b[0m torpo \u001b[38;5;241m=\u001b[39m \u001b[43mnodo\u001b[49m\u001b[43m(\u001b[49m\u001b[38;5;124;43m'\u001b[39;49m\u001b[38;5;124;43mau\u001b[39;49m\u001b[38;5;124;43m'\u001b[39;49m\u001b[43m)\u001b[49m\n",
      "\u001b[0;31mTypeError\u001b[0m: nodo.__init__() takes 1 positional argument but 2 were given"
     ]
    }
   ],
   "source": [
    "torpo = nodo('au')\n"
   ]
  },
  {
   "cell_type": "markdown",
   "id": "359e8ce7-bb22-40c0-b04b-4a9f591a6613",
   "metadata": {},
   "source": [
    "A partir de la clase nodo vamos a hacer una nueva clase llamada nodo_dato la "
   ]
  },
  {
   "cell_type": "code",
   "execution_count": null,
   "id": "340b4884-edd1-4ce7-aa89-26cb6f9bdf9e",
   "metadata": {},
   "outputs": [],
   "source": []
  }
 ],
 "metadata": {
  "kernelspec": {
   "display_name": "python3",
   "language": "python",
   "name": "python3"
  }
 },
 "nbformat": 4,
 "nbformat_minor": 5
}
